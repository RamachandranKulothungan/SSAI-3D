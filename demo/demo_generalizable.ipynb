{
 "cells": [
  {
   "cell_type": "markdown",
   "metadata": {},
   "source": [
    "### Generalizable demo model"
   ]
  },
  {
   "cell_type": "code",
   "execution_count": null,
   "metadata": {},
   "outputs": [],
   "source": [
    "import os\n",
    "import cv2\n",
    "import tifffile\n",
    "from basicsr.demo_test import * \n",
    "import matplotlib.pyplot as plt\n",
    "from basicsr.model_train import restore"
   ]
  },
  {
   "cell_type": "code",
   "execution_count": null,
   "metadata": {},
   "outputs": [],
   "source": [
    "model_pth = './experiments/pretrained_models/'\n",
    "data_pth = 'path_to_your_data'"
   ]
  },
  {
   "cell_type": "code",
   "execution_count": null,
   "metadata": {},
   "outputs": [],
   "source": [
    "output = restore(\n",
    "    input_pth = data_pth,\n",
    "    output_pth = f'../experiments/generalizable_demo',\\\n",
    "    model_pth =  os.path.join(model_pth, 'generalizable_model.pth'))"
   ]
  },
  {
   "cell_type": "code",
   "execution_count": null,
   "metadata": {},
   "outputs": [],
   "source": [
    "idx = 187\n",
    "ours = tifffile.imread(os.path.join(f'../experiments/generalizable_demo', f'{idx}.tiff'))\n",
    "raw = tifffile.imread(os.path.join(data_pth, f'{idx}.tiff'))\n",
    "figs, axs = plt.subplots(1,2,figsize=(15,20))\n",
    "axs[0].imshow(ours, cmap = 'gray')\n",
    "axs[0].set_title('Ours')\n",
    "axs[1].imshow(raw, cmap = 'gray')\n",
    "axs[1].set_title('Raw')"
   ]
  }
 ],
 "metadata": {
  "kernelspec": {
   "display_name": "base",
   "language": "python",
   "name": "python3"
  },
  "language_info": {
   "name": "python",
   "version": "3.11.4"
  },
  "orig_nbformat": 4
 },
 "nbformat": 4,
 "nbformat_minor": 2
}
