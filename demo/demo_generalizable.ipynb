{
 "cells": [
  {
   "cell_type": "markdown",
   "metadata": {},
   "source": [
    "## Generalizable Model Test -- uint16\n",
    "\n",
    "\n",
    "This notebook is designed to inference a generalized pre-trained model on any user-provided dataset that is of datatype uint16.\n",
    "\n",
    "---"
   ]
  },
  {
   "cell_type": "markdown",
   "metadata": {},
   "source": [
    "**Runtime Estimate**  \n",
    "Using the provided network checkpoints, the typical runtime for a uint16 dataset on a desktop computer is approximately **1 minute**.\n",
    "\n",
    "**Pre-trained Model**  \n",
    "Please download the pre-trained, fine-tuned model from [here](https://drive.google.com/file/d/1mhpZ00h3UvXvTfsA_feYd1B2sWD-06uY/view?usp=sharing), and move it to the following directory:  \n",
    "```\n",
    "./experiments/pretrained_models\n",
    "```\n"
   ]
  },
  {
   "cell_type": "code",
   "execution_count": null,
   "metadata": {},
   "outputs": [],
   "source": [
    "import os\n",
    "import cv2\n",
    "import tifffile\n",
    "from basicsr.demo_test import * \n",
    "import matplotlib.pyplot as plt\n",
    "from basicsr.model_train import restore"
   ]
  },
  {
   "cell_type": "code",
   "execution_count": null,
   "metadata": {},
   "outputs": [],
   "source": [
    "model_pth = './experiments/pretrained_models/'\n",
    "data_pth = 'path_to_your_data'"
   ]
  },
  {
   "cell_type": "code",
   "execution_count": null,
   "metadata": {},
   "outputs": [],
   "source": [
    "output = restore(\n",
    "    input_pth = data_pth,\n",
    "    output_pth = f'../experiments/generalizable_demo',\\\n",
    "    model_pth =  os.path.join(model_pth, 'generalizable_model.pth'))"
   ]
  },
  {
   "cell_type": "code",
   "execution_count": null,
   "metadata": {},
   "outputs": [],
   "source": [
    "idx = 666\n",
    "ours = tifffile.imread(os.path.join(f'../experiments/generalizable_demo', f'{idx}.tiff'))\n",
    "raw = tifffile.imread(os.path.join(data_pth, f'{idx}.tiff'))\n",
    "figs, axs = plt.subplots(1,2,figsize=(15,20))\n",
    "axs[0].imshow(ours, cmap = 'gray')\n",
    "axs[0].set_title('Ours')\n",
    "axs[1].imshow(raw, cmap = 'gray')\n",
    "axs[1].set_title('Raw')"
   ]
  }
 ],
 "metadata": {
  "kernelspec": {
   "display_name": "base",
   "language": "python",
   "name": "python3"
  },
  "language_info": {
   "name": "python",
   "version": "3.11.4"
  },
  "orig_nbformat": 4
 },
 "nbformat": 4,
 "nbformat_minor": 2
}
