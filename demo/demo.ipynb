{
 "cells": [
  {
   "cell_type": "code",
   "execution_count": 1,
   "metadata": {},
   "outputs": [],
   "source": [
    "from basicsr.demo_.utils import * "
   ]
  },
  {
   "cell_type": "markdown",
   "metadata": {},
   "source": [
    "Choose a sample from 'Endometrium_THG', 'Endometrium_SHG', 'Endometrium_FAD', 'BBB_NAD(P)H'"
   ]
  },
  {
   "cell_type": "code",
   "execution_count": 2,
   "metadata": {},
   "outputs": [],
   "source": [
    "# 'Endometrium_THG', 'Endometrium_SHG', 'Endometrium_FAD', 'BBB_NAD(P)H'\n",
    "sample = 'Endometrium_THG'\n",
    "model_pth, data_pth = options(sample)"
   ]
  },
  {
   "cell_type": "code",
   "execution_count": null,
   "metadata": {},
   "outputs": [],
   "source": [
    "\n",
    "output = folder_deconvolve(\n",
    "    input_pth = data_pth,\n",
    "    output_pth = f'../experiments/{sample}',\\\n",
    "    model_pth =  os.path.join(model_pth, 'net_g_latest.pth'))"
   ]
  }
 ],
 "metadata": {
  "kernelspec": {
   "display_name": "Python 3",
   "language": "python",
   "name": "python3"
  },
  "language_info": {
   "codemirror_mode": {
    "name": "ipython",
    "version": 3
   },
   "file_extension": ".py",
   "mimetype": "text/x-python",
   "name": "python",
   "nbconvert_exporter": "python",
   "pygments_lexer": "ipython3",
   "version": "3.8.18"
  },
  "orig_nbformat": 4
 },
 "nbformat": 4,
 "nbformat_minor": 2
}
