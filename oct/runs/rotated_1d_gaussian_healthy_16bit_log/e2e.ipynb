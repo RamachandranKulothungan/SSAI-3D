{
 "cells": [
  {
   "cell_type": "code",
   "execution_count": null,
   "id": "e6e922ce",
   "metadata": {},
   "outputs": [
    {
     "name": "stderr",
     "output_type": "stream",
     "text": [
      "c:\\Users\\rkulothu\\Documents\\Repos\\SSAI-oct\\SSAI-3D\\.venv\\lib\\site-packages\\tqdm\\auto.py:21: TqdmWarning: IProgress not found. Please update jupyter and ipywidgets. See https://ipywidgets.readthedocs.io/en/stable/user_install.html\n",
      "  from .autonotebook import tqdm as notebook_tqdm\n"
     ]
    }
   ],
   "source": [
    "from basicsr.trainer import Surgeon, SurgeonTrainer\n",
    "from basicsr.data import restore_volume, semi_synthetic_creation, \\\n",
    "     generate_raw_data, generate_zs_dataset, adjust_contrast, denoised_semi_synthetic_creation\n",
    "from basicsr.model_train import trainer_train,restore\n",
    "from easydict import EasyDict\n",
    "import os\n",
    "import tifffile\n",
    "from oct.utils import generate_dataset, stack\n",
    "import cv2\n",
    "from basicsr.utils.dataset import normalize, resize\n",
    "import numpy as np\n"
   ]
  },
  {
   "cell_type": "code",
   "execution_count": null,
   "id": "8f3461a6",
   "metadata": {},
   "outputs": [],
   "source": [
    "SSAI_PATH = \"C:/Users/rkulothu/Documents/Repos/SSAI-oct/SSAI-3D\"\n",
    "# SSAI_PATH = \"/Users/ramachandrank/Repos/SSAI-3D/\"\n",
    "raw_tif_path = f\"{SSAI_PATH}/raw_data/0704_OD_B-scans_log_16bits.tif\"\n",
    "project_depth = 4\n",
    "data_save_path = \"data_e2e\"\n",
    "results_save_path = \"results\""
   ]
  },
  {
   "cell_type": "code",
   "execution_count": 3,
   "id": "d81c745c",
   "metadata": {},
   "outputs": [],
   "source": [
    "generate_dataset.create_projected_data_with_1step_slide(raw_tif_path, data_save_path, project_depth = 4, projected_dir = \"projected_data\")"
   ]
  },
  {
   "cell_type": "code",
   "execution_count": null,
   "id": "a7312489",
   "metadata": {},
   "outputs": [],
   "source": [
    "angles = [5, 10, -5, -10]"
   ]
  },
  {
   "cell_type": "code",
   "execution_count": null,
   "id": "366093e5",
   "metadata": {},
   "outputs": [],
   "source": [
    "for angle in angles:\n",
    "    angle_data_save_path = f\"angle_{angle}\" + data_save_path\n",
    "    angle_results_save_path = f\"angle_{angle}\" + results_save_path\n",
    "    \n",
    "    \n",
    "    generate_dataset.create_synthetic_data_from_slices(f\"{data_save_path}/projected_data\", angle_data_save_path, 2, 1, 2, True, False, angle)\n",
    "    generate_dataset.create_downsampled_data_from_slices(f\"{data_save_path}/projected_data\", angle_data_save_path, 1, 2)\n",
    "    \n",
    "    \n",
    "    generate_dataset.create_zs_dataset(angle_data_save_path)\n",
    "    configs = EasyDict({\n",
    "    'model_path' : f'{SSAI_PATH}/pretrained_models/NAFNet-REDS-width64.pth',\n",
    "    'lq_pth': os.path.join(angle_data_save_path, 'zs_lq'),\n",
    "    'gt_pth': os.path.join(angle_data_save_path, 'zs_gt'),\n",
    "    'lr': 1e-4\n",
    "    })\n",
    "    operation = Surgeon(configs)\n",
    "    operation.get_zeroshot_information()\n",
    "    surgeon_trainer = SurgeonTrainer()\n",
    "    elementwise_input = operation.input_dict.copy()\n",
    "    rank = surgeon_trainer.forward_all(elementwise_input)\n",
    "\n",
    "\n",
    "    trainer_train(rank, angle_data_save_path)\n",
    "\n",
    "\n",
    "    generate_dataset.generate_oct_raw_data(\n",
    "        raw_pth = raw_tif_path, save_pth= angle_data_save_path, dr = 2,\n",
    "        xy_required=True, xz_required=True, yz_required=True\n",
    "        )\n",
    "    in_pth_xz = os.path.join(angle_data_save_path, 'test_xz')\n",
    "    out_pth_xz = os.path.join(angle_results_save_path, 'test_xz')\n",
    "    restore(input_pth = in_pth_xz,\\\n",
    "        output_pth = out_pth_xz,\\\n",
    "        model_pth =  'C:/Users/rkulothu/Documents/Repos/SSAI-oct/SSAI-3D/pretrained_models/NAFNet-REDS-width64.pth')\n",
    "    out_pth_xz = os.path.join(angle_results_save_path, 'test_xz')\n",
    "    stack.create_3d_tiff(out_pth_xz, os.path.join(angle_results_save_path ,f\"angle_{angle}_rec_xz.tiff\"))\n",
    "\n",
    "\n",
    "    generate_dataset.generate_oct_raw_data(raw_pth = os.path.join(angle_results_save_path ,f\"angle_{angle}_rec_xz.tiff\"), \n",
    "                                           save_pth= os.path.join(angle_data_save_path, \"restored_input\"), dr = 2, yz_required=True)\n",
    "    in_pth_xy = os.path.join(angle_data_save_path, \"restored_input\", 'test_yz')\n",
    "    out_pth_xy = os.path.join(angle_results_save_path, \"restored_input\", 'test_xy')\n",
    "    restore(input_pth = in_pth_xy,\\\n",
    "        output_pth = out_pth_xy,\\\n",
    "        model_pth =  'C:/Users/rkulothu/Documents/Repos/SSAI-oct/SSAI-3D/pretrained_models/NAFNet-REDS-width64.pth')\n",
    "    stack.create_3d_tiff(out_pth_xy, os.path.join(angle_results_save_path ,f\"angle_{angle}_16bit_log_final.tiff\"))\n"
   ]
  }
 ],
 "metadata": {
  "kernelspec": {
   "display_name": ".venv",
   "language": "python",
   "name": "python3"
  },
  "language_info": {
   "codemirror_mode": {
    "name": "ipython",
    "version": 3
   },
   "file_extension": ".py",
   "mimetype": "text/x-python",
   "name": "python",
   "nbconvert_exporter": "python",
   "pygments_lexer": "ipython3",
   "version": "3.9.13"
  }
 },
 "nbformat": 4,
 "nbformat_minor": 5
}
