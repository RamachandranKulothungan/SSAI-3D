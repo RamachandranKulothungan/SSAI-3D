{
 "cells": [
  {
   "cell_type": "code",
   "execution_count": 5,
   "id": "58451749",
   "metadata": {},
   "outputs": [],
   "source": [
    "import tifffile\n",
    "from basicsr.utils.dataset import normalize, resize\n",
    "import os\n",
    "import numpy as np\n",
    "SSAI_PATH = \"C:/Users/rkulothu/Documents/Repos/SSAI-3D\"\n",
    "projected_dir = \"projected_7\"\n",
    "raw_tif_path = f\"{SSAI_PATH}/raw_data/oct.tif\"\n",
    "project_depth = 7\n",
    "data_save_path = \"data\"\n",
    "results_save_path = \"results\"\n",
    "\n",
    "def create_projected_data(raw_tif_pth, save_pth, project_depth = 7):\n",
    "\n",
    "    raw_data = tifffile.imread(raw_tif_pth)\n",
    "    raw_data = normalize(raw_data)\n",
    "    # slices= number of slices when proj_idx number of images are used to create projections\n",
    "\n",
    "    projected_pth = os.path.join(save_pth, projected_dir)\n",
    "    os.makedirs(projected_pth, exist_ok = True)\n",
    "\n",
    "    # Create convolved images from projections of project_depth slice sets\n",
    "    for slice_idx in range(500 -  project_depth):\n",
    "        avg_slice = np.average(raw_data[slice_idx:slice_idx + project_depth], 0)\n",
    "        avg_slice = normalize(avg_slice)\n",
    "        tifffile.imwrite(os.path.join(projected_pth, f'{slice_idx}.tiff'), avg_slice)"
   ]
  },
  {
   "cell_type": "code",
   "execution_count": 6,
   "id": "dde846f1",
   "metadata": {},
   "outputs": [],
   "source": [
    "create_projected_data(raw_tif_path, \"test\")"
   ]
  },
  {
   "cell_type": "code",
   "execution_count": null,
   "id": "9dc681ab",
   "metadata": {},
   "outputs": [],
   "source": []
  }
 ],
 "metadata": {
  "kernelspec": {
   "display_name": ".venv",
   "language": "python",
   "name": "python3"
  },
  "language_info": {
   "codemirror_mode": {
    "name": "ipython",
    "version": 3
   },
   "file_extension": ".py",
   "mimetype": "text/x-python",
   "name": "python",
   "nbconvert_exporter": "python",
   "pygments_lexer": "ipython3",
   "version": "3.9.13"
  }
 },
 "nbformat": 4,
 "nbformat_minor": 5
}
