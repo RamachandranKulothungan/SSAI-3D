{
 "cells": [
  {
   "cell_type": "code",
   "execution_count": 1,
   "metadata": {},
   "outputs": [
    {
     "name": "stderr",
     "output_type": "stream",
     "text": [
      "c:\\Users\\rkulothu\\Documents\\Repos\\SSAI-3D\\.venv\\lib\\site-packages\\tqdm\\auto.py:21: TqdmWarning: IProgress not found. Please update jupyter and ipywidgets. See https://ipywidgets.readthedocs.io/en/stable/user_install.html\n",
      "  from .autonotebook import tqdm as notebook_tqdm\n"
     ]
    }
   ],
   "source": [
    "from basicsr.trainer import Surgeon, SurgeonTrainer\n",
    "from basicsr.data import restore_volume, semi_synthetic_creation, \\\n",
    "     generate_raw_data, generate_zs_dataset, adjust_contrast, denoised_semi_synthetic_creation\n",
    "from basicsr.model_train import trainer_train,restore\n",
    "from easydict import EasyDict\n",
    "import os\n",
    "import tifffile\n",
    "from oct.utils import generate_dataset, stack\n",
    "import cv2\n",
    "from basicsr.utils.dataset import normalize, resize\n",
    "\n",
    "\n",
    "SSAI_PATH = \"C:/Users/rkulothu/Documents/Repos/SSAI-3D\""
   ]
  },
  {
   "cell_type": "code",
   "execution_count": 2,
   "metadata": {},
   "outputs": [],
   "source": [
    "raw_tif_path = f\"{SSAI_PATH}/raw_data/oct.tif\"\n",
    "project_depth = 7\n",
    "data_save_path = \"data\"\n",
    "results_save_path = \"results\""
   ]
  },
  {
   "cell_type": "code",
   "execution_count": 3,
   "metadata": {},
   "outputs": [],
   "source": [
    "generate_dataset.create_projected_data(raw_tif_path, data_save_path, project_depth)"
   ]
  },
  {
   "cell_type": "code",
   "execution_count": 4,
   "metadata": {},
   "outputs": [],
   "source": [
    "generate_dataset.create_synthetic_data_from_slices(f\"{data_save_path}/{generate_dataset.projected_dir}\", \n",
    "                                                   data_save_path, kernel_num=3, downsample_rate=5)"
   ]
  },
  {
   "cell_type": "code",
   "execution_count": 5,
   "metadata": {},
   "outputs": [],
   "source": [
    "generate_dataset.create_zs_dataset(data_save_path)"
   ]
  },
  {
   "cell_type": "code",
   "execution_count": 6,
   "metadata": {},
   "outputs": [
    {
     "name": "stdout",
     "output_type": "stream",
     "text": [
      "Disable distributed.\n",
      "none\n",
      "rank: 0\n",
      "ws: 1\n"
     ]
    },
    {
     "name": "stderr",
     "output_type": "stream",
     "text": [
      "2025-04-13 17:04:51,058 INFO: Model [ImageRestorationModel] is created.\n"
     ]
    },
    {
     "name": "stdout",
     "output_type": "stream",
     "text": [
      " load net keys <built-in method keys of dict object at 0x0000024725F19280>\n",
      ".. cosineannealingLR\n",
      "grad_norm\n",
      "snip\n",
      "grasp\n",
      "fisher\n"
     ]
    },
    {
     "name": "stderr",
     "output_type": "stream",
     "text": [
      "c:\\Users\\rkulothu\\Documents\\Repos\\SSAI-3D\\.venv\\lib\\site-packages\\torch\\nn\\modules\\module.py:1033: UserWarning: Using a non-full backward hook when the forward contains multiple autograd Nodes is deprecated and will be removed in future versions. This hook will be missing some grad_input. Please use register_full_backward_hook to get the documented behavior.\n",
      "  warnings.warn(\"Using a non-full backward hook when the forward contains multiple autograd Nodes \"\n"
     ]
    },
    {
     "name": "stdout",
     "output_type": "stream",
     "text": [
      "plain\n",
      "synflow\n",
      "None weight loaded\n"
     ]
    }
   ],
   "source": [
    "configs = EasyDict({\n",
    "    'model_path' : f'{SSAI_PATH}/pretrained_models/NAFNet-REDS-width64.pth',\n",
    "    'lq_pth': os.path.join(data_save_path, 'zs_lq'),\n",
    "    'gt_pth': os.path.join(data_save_path, 'zs_gt'),\n",
    "    'lr': 1e-4\n",
    "})\n",
    "operation = Surgeon(configs)\n",
    "operation.get_zeroshot_information()\n",
    "surgeon_trainer = SurgeonTrainer()\n",
    "elementwise_input = operation.input_dict.copy()\n",
    "rank = surgeon_trainer.forward_all(elementwise_input)"
   ]
  },
  {
   "cell_type": "code",
   "execution_count": 7,
   "metadata": {},
   "outputs": [
    {
     "name": "stdout",
     "output_type": "stream",
     "text": [
      "Disable distributed.\n",
      "none\n",
      "Path already exists. Rename it to c:\\users\\rkulothu\\documents\\repos\\ssai-3d\\experiments\\demo_neurons_archived_20250413_170613\n",
      "Path already exists. Rename it to tb_logger\\demo_neurons_archived_20250413_170613\n"
     ]
    },
    {
     "name": "stderr",
     "output_type": "stream",
     "text": [
      "2025-04-13 17:06:13,437 INFO: \n",
      "                ____                _       _____  ____\n",
      "               / __ ) ____ _ _____ (_)_____/ ___/ / __ \\\n",
      "              / __  |/ __ `// ___// // ___/\\__ \\ / /_/ /\n",
      "             / /_/ // /_/ /(__  )/ // /__ ___/ // _, _/\n",
      "            /_____/ \\__,_//____//_/ \\___//____//_/ |_|\n",
      "     ______                   __   __                 __      __\n",
      "    / ____/____   ____   ____/ /  / /   __  __ _____ / /__   / /\n",
      "   / / __ / __ \\ / __ \\ / __  /  / /   / / / // ___// //_/  / /\n",
      "  / /_/ // /_/ // /_/ // /_/ /  / /___/ /_/ // /__ / /<    /_/\n",
      "  \\____/ \\____/ \\____/ \\____/  /_____/\\____/ \\___//_/|_|  (_)\n",
      "    \n",
      "Version Information: \n",
      "\tBasicSR: 1.2.0+78b8f21\n",
      "\tPyTorch: 1.11.0+cu113\n",
      "\tTorchVision: 0.12.0+cu113\n",
      "2025-04-13 17:06:13,437 INFO: \n",
      "  name: demo_neurons\n",
      "  model_type: ImageRestorationModel\n",
      "  scale: 1\n",
      "  num_gpu: 1\n",
      "  manual_seed: 10\n",
      "  datasets:[\n",
      "    train:[\n",
      "      name: reds-train\n",
      "      type: PairedImageDataset\n",
      "      dataroot_gt: data/gt\n",
      "      dataroot_lq: data/lq\n",
      "      filename_tmpl: {}\n",
      "      io_backend:[\n",
      "        type: disk\n",
      "      ]\n",
      "      gt_size: 500\n",
      "      use_flip: True\n",
      "      use_rot: True\n",
      "      use_shuffle: True\n",
      "      num_worker_per_gpu: 8\n",
      "      batch_size_per_gpu: 1\n",
      "      dataset_enlarge_ratio: 1\n",
      "      prefetch_mode: None\n",
      "      phase: train\n",
      "      scale: 1\n",
      "    ]\n",
      "    val:[\n",
      "      name: reds-val300-test\n",
      "      type: PairedImageDataset\n",
      "      dataroot_gt: C:\\Users\\rkulothu/\n",
      "      dataroot_lq: C:\\Users\\rkulothu/\n",
      "      io_backend:[\n",
      "        type: disk\n",
      "      ]\n",
      "      phase: val\n",
      "      scale: 1\n",
      "    ]\n",
      "  ]\n",
      "  network_g:[\n",
      "    type: NAFNetLocal\n",
      "    width: 64\n",
      "    enc_blk_nums: [1, 1, 1, 28]\n",
      "    middle_blk_num: 1\n",
      "    dec_blk_nums: [1, 1, 1, 1]\n",
      "  ]\n",
      "  ZEST: False\n",
      "  path:[\n",
      "    pretrain_network_g: C:\\Users\\rkulothu\\Documents\\Repos\\SSAI-3D\\pretrained_models\\NAFNet-REDS-width64.pth\n",
      "    strict_load_g: True\n",
      "    resume_state: None\n",
      "    root: c:\\users\\rkulothu\\documents\\repos\\ssai-3d\n",
      "    experiments_root: c:\\users\\rkulothu\\documents\\repos\\ssai-3d\\experiments\\demo_neurons\n",
      "    models: c:\\users\\rkulothu\\documents\\repos\\ssai-3d\\experiments\\demo_neurons\\models\n",
      "    training_states: c:\\users\\rkulothu\\documents\\repos\\ssai-3d\\experiments\\demo_neurons\\training_states\n",
      "    log: c:\\users\\rkulothu\\documents\\repos\\ssai-3d\\experiments\\demo_neurons\n",
      "    visualization: c:\\users\\rkulothu\\documents\\repos\\ssai-3d\\experiments\\demo_neurons\\visualization\n",
      "  ]\n",
      "  train:[\n",
      "    optim_g:[\n",
      "      type: AdamW\n",
      "      lr: 0.0001\n",
      "      weight_decay: 1e-05\n",
      "      betas: [0.9, 0.9]\n",
      "    ]\n",
      "    scheduler:[\n",
      "      type: TrueCosineAnnealingLR\n",
      "      T_max: 1000\n",
      "      eta_min: 1e-07\n",
      "    ]\n",
      "    total_iter: 1000\n",
      "    warmup_iter: -1\n",
      "    pixel_opt:[\n",
      "      type: PSNRLoss\n",
      "      loss_weight: 1\n",
      "      reduction: mean\n",
      "    ]\n",
      "  ]\n",
      "  val:[\n",
      "    val_freq: 2500.0\n",
      "    save_img: False\n",
      "    metrics:[\n",
      "      psnr:[\n",
      "        type: calculate_psnr\n",
      "        crop_border: 0\n",
      "        test_y_channel: False\n",
      "      ]\n",
      "      ssim:[\n",
      "        type: calculate_ssim\n",
      "        crop_border: 0\n",
      "        test_y_channel: False\n",
      "      ]\n",
      "    ]\n",
      "  ]\n",
      "  logger:[\n",
      "    print_freq: 200\n",
      "    save_checkpoint_freq: 500.0\n",
      "    use_tb_logger: True\n",
      "    wandb:[\n",
      "      project: None\n",
      "      resume_id: None\n",
      "    ]\n",
      "  ]\n",
      "  dist_params:[\n",
      "    backend: none\n",
      "    port: 29500\n",
      "  ]\n",
      "  is_train: True\n",
      "  dist: False\n",
      "  rank: 0\n",
      "  world_size: 1\n",
      "\n",
      "2025-04-13 17:06:13,670 INFO: Dataset PairedImageDataset - reds-train is created.\n",
      "2025-04-13 17:06:13,670 INFO: Training statistics:\n",
      "\tNumber of train images: 213\n",
      "\tDataset enlarge ratio: 1\n",
      "\tBatch size per gpu: 1\n",
      "\tWorld size (gpu number): 1\n",
      "\tRequire iter number per epoch: 213\n",
      "\tTotal epochs: 5; iters: 1000.\n",
      "2025-04-13 17:06:13,670 INFO: Dataset PairedImageDataset - reds-val300-test is created.\n",
      "2025-04-13 17:06:13,670 INFO: Number of val images/folders in reds-val300-test: 7\n",
      "2025-04-13 17:06:15,184 INFO: Loading NAFNetLocal model from C:\\Users\\rkulothu\\Documents\\Repos\\SSAI-3D\\pretrained_models\\NAFNet-REDS-width64.pth.\n",
      "2025-04-13 17:06:15,424 INFO: Model [ImageRestorationModel] is created.\n"
     ]
    },
    {
     "name": "stdout",
     "output_type": "stream",
     "text": [
      " load net keys <built-in method keys of dict object at 0x000002470E1D5040>\n",
      ".. cosineannealingLR\n"
     ]
    },
    {
     "name": "stderr",
     "output_type": "stream",
     "text": [
      "2025-04-13 17:06:15,863 INFO: Start training from epoch: 0, iter: 0\n",
      "2025-04-13 17:07:29,723 INFO: [demo_..][epoch:  0, iter:     200, lr:(9.055e-05,)] [eta: 0:04:55, time (data): 0.353 (0.000)] l_pix: -3.0183e+01 \n",
      "2025-04-13 17:08:39,411 INFO: [demo_..][epoch:  1, iter:     400, lr:(6.563e-05,)] [eta: 0:03:35, time (data): 0.347 (0.000)] l_pix: -3.1309e+01 \n",
      "2025-04-13 17:09:14,350 INFO: Saving models and training states.\n",
      "2025-04-13 17:09:49,681 INFO: [demo_..][epoch:  2, iter:     600, lr:(3.476e-05,)] [eta: 0:02:22, time (data): 0.350 (0.000)] l_pix: -3.2876e+01 \n",
      "2025-04-13 17:10:59,499 INFO: [demo_..][epoch:  3, iter:     800, lr:(9.732e-06,)] [eta: 0:01:10, time (data): 0.350 (0.000)] l_pix: -3.2515e+01 \n",
      "2025-04-13 17:12:09,240 INFO: [demo_..][epoch:  4, iter:   1,000, lr:(1.002e-07,)] [eta: 0:00:00, time (data): 0.350 (0.001)] l_pix: -3.0982e+01 \n",
      "2025-04-13 17:12:09,240 INFO: Saving models and training states.\n",
      "2025-04-13 17:12:09,716 INFO: End of training. Time consumed: 0:05:53\n",
      "2025-04-13 17:12:09,716 INFO: Save the latest model.\n"
     ]
    }
   ],
   "source": [
    "trainer_train(rank, data_save_path)"
   ]
  },
  {
   "cell_type": "code",
   "execution_count": 4,
   "metadata": {},
   "outputs": [
    {
     "name": "stdout",
     "output_type": "stream",
     "text": [
      "uint16\n",
      "(500, 900, 500)\n"
     ]
    }
   ],
   "source": [
    "generate_dataset.generate_oct_raw_data(raw_pth = raw_tif_path, save_pth= data_save_path, dr = 5,xy_required=True, xz_required=False, yz_required=False)"
   ]
  },
  {
   "cell_type": "code",
   "execution_count": null,
   "metadata": {},
   "outputs": [
    {
     "name": "stdout",
     "output_type": "stream",
     "text": [
      "Disable distributed.\n",
      "none\n"
     ]
    },
    {
     "name": "stderr",
     "output_type": "stream",
     "text": [
      "2025-04-13 17:18:14,110 INFO: Loading NAFNetLocal model from C:/Users/rkulothu/Documents/Repos/SSAI-3D/pretrained_models/NAFNet-REDS-width64.pth.\n"
     ]
    },
    {
     "name": "stdout",
     "output_type": "stream",
     "text": [
      " load net keys <built-in method keys of dict object at 0x00000247113354C0>\n"
     ]
    },
    {
     "name": "stderr",
     "output_type": "stream",
     "text": [
      "2025-04-13 17:18:14,561 INFO: Model [ImageRestorationModel] is created.\n",
      "100%|██████████| 500/500 [10:07<00:00,  1.21s/it]\n"
     ]
    }
   ],
   "source": [
    "in_pth_xz = os.path.join(data_save_path, 'test_xz')\n",
    "\n",
    "out_pth_xz = os.path.join(results_save_path, 'test_xz')\n",
    "\n",
    "restore(input_pth = in_pth_xz,\\\n",
    "        output_pth = out_pth_xz,\\\n",
    "        model_pth =  'C:/Users/rkulothu/Documents/Repos/SSAI-3D/pretrained_models/NAFNet-REDS-width64.pth')\n"
   ]
  },
  {
   "cell_type": "code",
   "execution_count": 5,
   "metadata": {},
   "outputs": [
    {
     "name": "stdout",
     "output_type": "stream",
     "text": [
      "Disable distributed.\n"
     ]
    },
    {
     "name": "stdout",
     "output_type": "stream",
     "text": [
      "none\n"
     ]
    },
    {
     "name": "stderr",
     "output_type": "stream",
     "text": [
      "2025-04-13 21:02:40,525 INFO: Model [ImageRestorationModel] is created.\n"
     ]
    },
    {
     "name": "stdout",
     "output_type": "stream",
     "text": [
      " load net keys <built-in method keys of dict object at 0x000002817325A540>\n"
     ]
    },
    {
     "name": "stderr",
     "output_type": "stream",
     "text": [
      "100%|██████████| 500/500 [08:37<00:00,  1.04s/it]\n"
     ]
    }
   ],
   "source": [
    "in_pth_xy = os.path.join(data_save_path, 'test_xy')\n",
    "\n",
    "out_pth_xy = os.path.join(results_save_path, 'test_xy')\n",
    "\n",
    "restore(input_pth = in_pth_xy,\\\n",
    "        output_pth = out_pth_xy,\\\n",
    "        model_pth =  'C:/Users/rkulothu/Documents/Repos/SSAI-3D/pretrained_models/NAFNet-REDS-width64.pth')"
   ]
  },
  {
   "cell_type": "code",
   "execution_count": 4,
   "metadata": {},
   "outputs": [
    {
     "name": "stderr",
     "output_type": "stream",
     "text": [
      "100%|██████████| 500/500 [00:01<00:00, 275.43it/s]\n"
     ]
    },
    {
     "name": "stdout",
     "output_type": "stream",
     "text": [
      "(500, 2500, 900, 3)\n",
      "(500, 2500, 900)\n"
     ]
    }
   ],
   "source": [
    "out_pth_xz = os.path.join(results_save_path, 'test_xz')\n",
    "stack.create_3d_tiff(out_pth_xz, os.path.join(results_save_path ,\"proj_7_rec_xz.tiff\"))"
   ]
  },
  {
   "cell_type": "code",
   "execution_count": 3,
   "metadata": {},
   "outputs": [
    {
     "name": "stderr",
     "output_type": "stream",
     "text": [
      "100%|██████████| 500/500 [00:06<00:00, 73.39it/s]\n"
     ]
    },
    {
     "name": "stdout",
     "output_type": "stream",
     "text": [
      "(500, 900, 2500, 3)\n",
      "(500, 900, 2500)\n"
     ]
    }
   ],
   "source": [
    "out_pth_xz = os.path.join(results_save_path, 'test_xy')\n",
    "stack.create_3d_tiff(out_pth_xz, os.path.join(results_save_path ,\"proj_7_rec_xy.tiff\"))"
   ]
  },
  {
   "cell_type": "code",
   "execution_count": 4,
   "metadata": {},
   "outputs": [
    {
     "name": "stdout",
     "output_type": "stream",
     "text": [
      "Disable distributed.\n",
      "none\n",
      " load net keys <built-in method keys of dict object at 0x000002D517459480>\n"
     ]
    },
    {
     "name": "stderr",
     "output_type": "stream",
     "text": [
      "2025-04-14 14:39:07,376 INFO: Model [ImageRestorationModel] is created.\n",
      "100%|██████████| 900/900 [44:56<00:00,  3.00s/it]\n"
     ]
    }
   ],
   "source": [
    "in_pth_yz = os.path.join(data_save_path, 'test_yz')\n",
    "\n",
    "out_pth_yz = os.path.join(results_save_path, 'test_yz')\n",
    "\n",
    "restore(input_pth = in_pth_yz,\\\n",
    "        output_pth = out_pth_yz,\\\n",
    "        model_pth =  'C:/Users/rkulothu/Documents/Repos/SSAI-3D/pretrained_models/NAFNet-REDS-width64.pth')"
   ]
  },
  {
   "cell_type": "code",
   "execution_count": 5,
   "metadata": {},
   "outputs": [
    {
     "name": "stderr",
     "output_type": "stream",
     "text": [
      "100%|██████████| 900/900 [00:15<00:00, 59.45it/s]\n"
     ]
    },
    {
     "name": "stdout",
     "output_type": "stream",
     "text": [
      "(900, 2500, 2500, 3)\n",
      "(900, 2500, 2500)\n"
     ]
    }
   ],
   "source": [
    "\n",
    "stack.create_3d_tiff(out_pth_yz, os.path.join(results_save_path ,\"proj_7_rec_yz.tiff\"))"
   ]
  },
  {
   "cell_type": "code",
   "execution_count": null,
   "metadata": {},
   "outputs": [],
   "source": []
  }
 ],
 "metadata": {
  "kernelspec": {
   "display_name": ".venv",
   "language": "python",
   "name": "python3"
  },
  "language_info": {
   "codemirror_mode": {
    "name": "ipython",
    "version": 3
   },
   "file_extension": ".py",
   "mimetype": "text/x-python",
   "name": "python",
   "nbconvert_exporter": "python",
   "pygments_lexer": "ipython3",
   "version": "3.9.13"
  }
 },
 "nbformat": 4,
 "nbformat_minor": 2
}
