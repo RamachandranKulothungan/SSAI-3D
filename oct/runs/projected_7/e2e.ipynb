{
 "cells": [
  {
   "cell_type": "code",
   "execution_count": 5,
   "metadata": {},
   "outputs": [],
   "source": [
    "from basicsr.trainer import Surgeon, SurgeonTrainer\n",
    "from basicsr.data import restore_volume, semi_synthetic_creation, \\\n",
    "     generate_raw_data, generate_zs_dataset, adjust_contrast, denoised_semi_synthetic_creation\n",
    "from basicsr.model_train import trainer_train, restore\n",
    "from easydict import EasyDict\n",
    "import os\n",
    "\n",
    "from oct.utils import generate_dataset\n",
    "\n",
    "SSAI_PATH = \"/Users/ramachandrank/Documents/Tbpl/SSAI-3D/\""
   ]
  },
  {
   "cell_type": "code",
   "execution_count": 2,
   "metadata": {},
   "outputs": [],
   "source": [
    "raw_tif_path = f\"{SSAI_PATH}/raw_data/oct.tif\"\n",
    "project_depth = 7\n",
    "data_save_path = \"data\""
   ]
  },
  {
   "cell_type": "code",
   "execution_count": 3,
   "metadata": {},
   "outputs": [],
   "source": [
    "generate_dataset.create_projected_data(raw_tif_path, data_save_path, project_depth)"
   ]
  },
  {
   "cell_type": "code",
   "execution_count": null,
   "metadata": {},
   "outputs": [],
   "source": [
    "generate_dataset.create_synthetic_data_from_slices(f\"{data_save_path}/{generate_dataset.projected_dir}\", \n",
    "                                                   data_save_path, kernel_num=3, downsample_rate=5)"
   ]
  },
  {
   "cell_type": "code",
   "execution_count": 3,
   "metadata": {},
   "outputs": [],
   "source": [
    "generate_dataset.create_zs_dataset(data_save_path)"
   ]
  },
  {
   "cell_type": "code",
   "execution_count": 6,
   "metadata": {},
   "outputs": [
    {
     "name": "stdout",
     "output_type": "stream",
     "text": [
      "Disable distributed.\n",
      "none\n",
      "rank: 0\n",
      "ws: 1\n"
     ]
    },
    {
     "name": "stderr",
     "output_type": "stream",
     "text": [
      "2025-04-02 17:04:15,562 INFO: Model [ImageRestorationModel] is created.\n"
     ]
    },
    {
     "name": "stdout",
     "output_type": "stream",
     "text": [
      " load net keys <built-in method keys of dict object at 0x314176b40>\n",
      ".. cosineannealingLR\n",
      "grad_norm\n",
      "snip\n",
      "grasp\n",
      "fisher\n"
     ]
    },
    {
     "name": "stderr",
     "output_type": "stream",
     "text": [
      "/Users/ramachandrank/Documents/Tbpl/SSAI-3D/.venv/lib/python3.9/site-packages/torch/nn/modules/module.py:1033: UserWarning: Using a non-full backward hook when the forward contains multiple autograd Nodes is deprecated and will be removed in future versions. This hook will be missing some grad_input. Please use register_full_backward_hook to get the documented behavior.\n",
      "  warnings.warn(\"Using a non-full backward hook when the forward contains multiple autograd Nodes \"\n"
     ]
    },
    {
     "name": "stdout",
     "output_type": "stream",
     "text": [
      "plain\n",
      "synflow\n",
      "None weight loaded\n"
     ]
    }
   ],
   "source": [
    "configs = EasyDict({\n",
    "    'model_path' : f'{SSAI_PATH}/pretrained_models/NAFNet-REDS-width64.pth',\n",
    "    'lq_pth': os.path.join(data_save_path, 'zs_lq'),\n",
    "    'gt_pth': os.path.join(data_save_path, 'zs_gt'),\n",
    "    'lr': 1e-4\n",
    "})\n",
    "operation = Surgeon(configs)\n",
    "operation.get_zeroshot_information()\n",
    "surgeon_trainer = SurgeonTrainer()\n",
    "elementwise_input = operation.input_dict.copy()\n",
    "rank = surgeon_trainer.forward_all(elementwise_input)"
   ]
  },
  {
   "cell_type": "code",
   "execution_count": null,
   "metadata": {},
   "outputs": [],
   "source": []
  }
 ],
 "metadata": {
  "kernelspec": {
   "display_name": ".venv",
   "language": "python",
   "name": "python3"
  },
  "language_info": {
   "codemirror_mode": {
    "name": "ipython",
    "version": 3
   },
   "file_extension": ".py",
   "mimetype": "text/x-python",
   "name": "python",
   "nbconvert_exporter": "python",
   "pygments_lexer": "ipython3",
   "version": "3.9.19"
  }
 },
 "nbformat": 4,
 "nbformat_minor": 2
}
