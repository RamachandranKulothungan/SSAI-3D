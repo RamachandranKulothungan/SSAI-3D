{
 "cells": [
  {
   "cell_type": "code",
   "execution_count": null,
   "metadata": {},
   "outputs": [],
   "source": [
    "import tifffile\n",
    "from basicsr.utils.dataset import normalize, resize\n",
    "import os\n",
    "import numpy as np\n",
    "\n",
    "SSAI_PATH = \"/Users/ramachandrank/Documents/Tbpl/SSAI-3D/\""
   ]
  },
  {
   "cell_type": "code",
   "execution_count": 5,
   "metadata": {},
   "outputs": [],
   "source": [
    "def create_projected_data(raw_tif_pth, save_pth, project_depth = 7):\n",
    "\n",
    "    raw_data = tifffile.imread(raw_tif_pth)\n",
    "    raw_data = normalize(raw_data)\n",
    "    # slices= number of slices when proj_idx number of images are used to create projections\n",
    "    slices = int((raw_data.shape[0]//project_depth))\n",
    "\n",
    "    projected_pth = os.path.join(save_pth, 'projected_xy')\n",
    "    os.makedirs(projected_pth, exist_ok = True)\n",
    "\n",
    "    # Create convolved images from projections of project_depth slice sets\n",
    "    for slice_idx in range(slices):\n",
    "        avg_slice = np.average(raw_data[slice_idx * project_depth:(slice_idx+1) * project_depth], 0)\n",
    "        avg_slice = normalize(avg_slice)\n",
    "        tifffile.imwrite(os.path.join(projected_pth, f'{slice_idx * project_depth}_{(slice_idx+1) * project_depth}.tiff'), avg_slice)\n",
    "    return"
   ]
  },
  {
   "cell_type": "code",
   "execution_count": 8,
   "metadata": {},
   "outputs": [],
   "source": [
    "create_projected_data(f\"{SSAI_PATH}/raw_data/oct.tif\", \"./data\", project_depth = 7)"
   ]
  },
  {
   "cell_type": "code",
   "execution_count": null,
   "metadata": {},
   "outputs": [],
   "source": []
  }
 ],
 "metadata": {
  "kernelspec": {
   "display_name": ".venv",
   "language": "python",
   "name": "python3"
  },
  "language_info": {
   "codemirror_mode": {
    "name": "ipython",
    "version": 3
   },
   "file_extension": ".py",
   "mimetype": "text/x-python",
   "name": "python",
   "nbconvert_exporter": "python",
   "pygments_lexer": "ipython3",
   "version": "3.9.19"
  }
 },
 "nbformat": 4,
 "nbformat_minor": 2
}
